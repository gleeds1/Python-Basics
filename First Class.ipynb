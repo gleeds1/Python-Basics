{
 "cells": [
  {
   "cell_type": "code",
   "execution_count": 3,
   "id": "7f11b253",
   "metadata": {},
   "outputs": [
    {
     "name": "stdout",
     "output_type": "stream",
     "text": [
      "hello world!\n"
     ]
    }
   ],
   "source": [
    "print(\"hello world!\")  "
   ]
  },
  {
   "cell_type": "code",
   "execution_count": 5,
   "id": "402caf25",
   "metadata": {},
   "outputs": [
    {
     "name": "stdout",
     "output_type": "stream",
     "text": [
      "4\n"
     ]
    }
   ],
   "source": [
    "x=4 \n",
    "print(x)"
   ]
  },
  {
   "cell_type": "code",
   "execution_count": 6,
   "id": "8053a694",
   "metadata": {},
   "outputs": [
    {
     "data": {
      "text/plain": [
       "4"
      ]
     },
     "execution_count": 6,
     "metadata": {},
     "output_type": "execute_result"
    }
   ],
   "source": [
    "x"
   ]
  },
  {
   "cell_type": "code",
   "execution_count": 7,
   "id": "cafbad63",
   "metadata": {},
   "outputs": [
    {
     "data": {
      "text/plain": [
       "2.0"
      ]
     },
     "execution_count": 7,
     "metadata": {},
     "output_type": "execute_result"
    }
   ],
   "source": [
    "float(2)"
   ]
  },
  {
   "cell_type": "code",
   "execution_count": 8,
   "id": "35c3d727",
   "metadata": {},
   "outputs": [
    {
     "data": {
      "text/plain": [
       "3"
      ]
     },
     "execution_count": 8,
     "metadata": {},
     "output_type": "execute_result"
    }
   ],
   "source": [
    "int(3.1)"
   ]
  },
  {
   "cell_type": "code",
   "execution_count": 10,
   "id": "017864c9",
   "metadata": {},
   "outputs": [
    {
     "data": {
      "text/plain": [
       "True"
      ]
     },
     "execution_count": 10,
     "metadata": {},
     "output_type": "execute_result"
    }
   ],
   "source": [
    "bool(1)"
   ]
  },
  {
   "cell_type": "code",
   "execution_count": 11,
   "id": "f4d21bde",
   "metadata": {},
   "outputs": [
    {
     "data": {
      "text/plain": [
       "False"
      ]
     },
     "execution_count": 11,
     "metadata": {},
     "output_type": "execute_result"
    }
   ],
   "source": [
    "bool(0)"
   ]
  },
  {
   "cell_type": "code",
   "execution_count": 12,
   "id": "6d11f9e7",
   "metadata": {},
   "outputs": [
    {
     "data": {
      "text/plain": [
       "93"
      ]
     },
     "execution_count": 12,
     "metadata": {},
     "output_type": "execute_result"
    }
   ],
   "source": [
    "43+50"
   ]
  },
  {
   "cell_type": "code",
   "execution_count": 13,
   "id": "0e1a9097",
   "metadata": {},
   "outputs": [
    {
     "data": {
      "text/plain": [
       "10"
      ]
     },
     "execution_count": 13,
     "metadata": {},
     "output_type": "execute_result"
    }
   ],
   "source": [
    "2*5"
   ]
  },
  {
   "cell_type": "code",
   "execution_count": 14,
   "id": "f0aecea3",
   "metadata": {},
   "outputs": [
    {
     "data": {
      "text/plain": [
       "32"
      ]
     },
     "execution_count": 14,
     "metadata": {},
     "output_type": "execute_result"
    }
   ],
   "source": [
    "2**5"
   ]
  },
  {
   "cell_type": "code",
   "execution_count": 15,
   "id": "afabfd4f",
   "metadata": {},
   "outputs": [
    {
     "data": {
      "text/plain": [
       "int"
      ]
     },
     "execution_count": 15,
     "metadata": {},
     "output_type": "execute_result"
    }
   ],
   "source": [
    "type(x)"
   ]
  },
  {
   "cell_type": "code",
   "execution_count": 17,
   "id": "ee8d1cc1",
   "metadata": {},
   "outputs": [],
   "source": [
    "total_min=120"
   ]
  },
  {
   "cell_type": "code",
   "execution_count": 18,
   "id": "f413779a",
   "metadata": {},
   "outputs": [],
   "source": [
    "total_hr=(total_min)/2"
   ]
  },
  {
   "cell_type": "code",
   "execution_count": 19,
   "id": "6899c74d",
   "metadata": {},
   "outputs": [
    {
     "data": {
      "text/plain": [
       "60.0"
      ]
     },
     "execution_count": 19,
     "metadata": {},
     "output_type": "execute_result"
    }
   ],
   "source": [
    "total_hr"
   ]
  },
  {
   "cell_type": "code",
   "execution_count": 39,
   "id": "35b330ba",
   "metadata": {},
   "outputs": [],
   "source": [
    "name = \"Gillian\""
   ]
  },
  {
   "cell_type": "code",
   "execution_count": 40,
   "id": "5c367173",
   "metadata": {},
   "outputs": [
    {
     "data": {
      "text/plain": [
       "'G'"
      ]
     },
     "execution_count": 40,
     "metadata": {},
     "output_type": "execute_result"
    }
   ],
   "source": [
    "name[0]"
   ]
  },
  {
   "cell_type": "code",
   "execution_count": 41,
   "id": "e4a4c882",
   "metadata": {},
   "outputs": [
    {
     "data": {
      "text/plain": [
       "'n'"
      ]
     },
     "execution_count": 41,
     "metadata": {},
     "output_type": "execute_result"
    }
   ],
   "source": [
    "name[-1]"
   ]
  },
  {
   "cell_type": "code",
   "execution_count": 42,
   "id": "3e5c9a41",
   "metadata": {},
   "outputs": [
    {
     "data": {
      "text/plain": [
       "'Gl'"
      ]
     },
     "execution_count": 42,
     "metadata": {},
     "output_type": "execute_result"
    }
   ],
   "source": [
    "name[0:5:3]"
   ]
  },
  {
   "cell_type": "code",
   "execution_count": 43,
   "id": "325d1704",
   "metadata": {},
   "outputs": [
    {
     "data": {
      "text/plain": [
       "7"
      ]
     },
     "execution_count": 43,
     "metadata": {},
     "output_type": "execute_result"
    }
   ],
   "source": [
    "len(\"Gillian\")"
   ]
  },
  {
   "cell_type": "code",
   "execution_count": 44,
   "id": "8a41ac2f",
   "metadata": {},
   "outputs": [],
   "source": [
    "statement = name + \" is a student\""
   ]
  },
  {
   "cell_type": "code",
   "execution_count": 45,
   "id": "ce3a07cc",
   "metadata": {},
   "outputs": [
    {
     "data": {
      "text/plain": [
       "'Gillian is a student'"
      ]
     },
     "execution_count": 45,
     "metadata": {},
     "output_type": "execute_result"
    }
   ],
   "source": [
    "statement"
   ]
  },
  {
   "cell_type": "code",
   "execution_count": 46,
   "id": "f748463b",
   "metadata": {},
   "outputs": [],
   "source": [
    "name = name + \" Leeds\""
   ]
  },
  {
   "cell_type": "code",
   "execution_count": 47,
   "id": "d4a3ddeb",
   "metadata": {},
   "outputs": [
    {
     "data": {
      "text/plain": [
       "'Gillian Leeds'"
      ]
     },
     "execution_count": 47,
     "metadata": {},
     "output_type": "execute_result"
    }
   ],
   "source": [
    "name"
   ]
  },
  {
   "cell_type": "code",
   "execution_count": 63,
   "id": "1934ca14",
   "metadata": {},
   "outputs": [],
   "source": [
    "A = \"now\""
   ]
  },
  {
   "cell_type": "code",
   "execution_count": 64,
   "id": "2973e303",
   "metadata": {},
   "outputs": [],
   "source": [
    "B = A.upper()"
   ]
  },
  {
   "cell_type": "code",
   "execution_count": 65,
   "id": "833b2717",
   "metadata": {},
   "outputs": [
    {
     "name": "stdout",
     "output_type": "stream",
     "text": [
      "NOW\n"
     ]
    }
   ],
   "source": [
    "print(B)"
   ]
  },
  {
   "cell_type": "code",
   "execution_count": 66,
   "id": "1a05e6fd",
   "metadata": {},
   "outputs": [],
   "source": [
    "A = \"Gillian Leeds\""
   ]
  },
  {
   "cell_type": "code",
   "execution_count": 69,
   "id": "3536e721",
   "metadata": {},
   "outputs": [
    {
     "data": {
      "text/plain": [
       "'David Leeds'"
      ]
     },
     "execution_count": 69,
     "metadata": {},
     "output_type": "execute_result"
    }
   ],
   "source": [
    "A.replace(\"Gillian\",\"David\")"
   ]
  },
  {
   "cell_type": "code",
   "execution_count": null,
   "id": "5e71a0f6",
   "metadata": {},
   "outputs": [],
   "source": []
  }
 ],
 "metadata": {
  "kernelspec": {
   "display_name": "Python 3",
   "language": "python",
   "name": "python3"
  },
  "language_info": {
   "codemirror_mode": {
    "name": "ipython",
    "version": 3
   },
   "file_extension": ".py",
   "mimetype": "text/x-python",
   "name": "python",
   "nbconvert_exporter": "python",
   "pygments_lexer": "ipython3",
   "version": "3.8.8"
  }
 },
 "nbformat": 4,
 "nbformat_minor": 5
}
